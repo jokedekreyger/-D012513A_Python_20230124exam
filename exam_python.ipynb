{
  "cells": [
    {
      "cell_type": "markdown",
      "metadata": {
        "id": "view-in-github",
        "colab_type": "text"
      },
      "source": [
        "<a href=\"https://colab.research.google.com/github/jokedekreyger/-D012513A_Python_20230124exam/blob/main/exam_python.ipynb\" target=\"_parent\"><img src=\"https://colab.research.google.com/assets/colab-badge.svg\" alt=\"Open In Colab\"/></a>"
      ]
    },
    {
      "cell_type": "code",
      "execution_count": 1,
      "id": "091354ed",
      "metadata": {
        "id": "091354ed"
      },
      "outputs": [],
      "source": [
        "import warnings;\n",
        "warnings.filterwarnings('ignore');\n",
        "\n",
        "import pandas as pd"
      ]
    },
    {
      "cell_type": "markdown",
      "id": "ee6c91c4",
      "metadata": {
        "id": "ee6c91c4"
      },
      "source": [
        "# Practical Python Specialized Bioinformatics\n",
        "\n",
        "#### 29/09/2023\n",
        "\n",
        "For this exam you are asked to complete the Python code between the\n",
        "\n",
        "```\n",
        "#start code here\n",
        "\n",
        "#end code here\n",
        "```\n",
        "\n",
        "comments.\n",
        "\n",
        "A direct question needs to be answered in the text field just below the question.\n",
        "\n",
        "Don't forget to periodically save your work to your GitHub repository.\n",
        "\n",
        "Please write your name and studentnumber in the text box below:"
      ]
    },
    {
      "cell_type": "markdown",
      "id": "26a37790",
      "metadata": {
        "id": "26a37790"
      },
      "source": [
        "### Name:\n",
        "\n",
        "### Number:"
      ]
    },
    {
      "cell_type": "markdown",
      "id": "0ee97f69",
      "metadata": {
        "id": "0ee97f69"
      },
      "source": [
        "### Total points:        / 20"
      ]
    },
    {
      "cell_type": "markdown",
      "id": "67886993",
      "metadata": {
        "id": "67886993"
      },
      "source": [
        "**question 1 (2pts)**\n",
        "\n",
        "Create a Pandas DataFrame called `letters` that looks like this:\n",
        "\n",
        "|   | letter_1 | letter_2 | letter_3 |\n",
        "|---|----------|----------|----------|\n",
        "| 0 | a        | d        | g        |\n",
        "| 1 | b        | e        | h        |\n",
        "| 2 | c        | f        | i        |"
      ]
    },
    {
      "cell_type": "code",
      "execution_count": 11,
      "id": "13ce1b31",
      "metadata": {
        "id": "13ce1b31"
      },
      "outputs": [],
      "source": [
        "#start code here\n",
        "import pandas as pd\n",
        "letters = pd.DataFrame({'letter_1': ['a', 'b', 'c'], 'letter_2': ['d', 'e', 'f'], 'letter_3': ['g', 'h', 'i']})\n",
        "\n",
        "\n",
        "\n"
      ]
    },
    {
      "cell_type": "markdown",
      "id": "e9298a19",
      "metadata": {
        "id": "e9298a19"
      },
      "source": [
        "**question 2 (1pt)**\n",
        "\n",
        "Use the Pandas DataFrame `.tail()` function to print the last two rows of the `letters` DataFrame."
      ]
    },
    {
      "cell_type": "code",
      "execution_count": 12,
      "id": "53a0fe40",
      "metadata": {
        "id": "53a0fe40",
        "colab": {
          "base_uri": "https://localhost:8080/"
        },
        "outputId": "8b47bfec-5d65-448a-8391-f3098c03780c"
      },
      "outputs": [
        {
          "output_type": "execute_result",
          "data": {
            "text/plain": [
              "<bound method NDFrame.tail of   letter_1 letter_2 letter_3\n",
              "0        a        d        g\n",
              "1        b        e        h\n",
              "2        c        f        i>"
            ]
          },
          "metadata": {},
          "execution_count": 12
        }
      ],
      "source": [
        "#start code here\n",
        "letters.tail\n",
        "\n",
        "#end code here"
      ]
    },
    {
      "cell_type": "markdown",
      "id": "c7a5c69b",
      "metadata": {
        "id": "c7a5c69b"
      },
      "source": [
        "**question 3 (1pt)**\n",
        "\n",
        "In `letters`, create a column `letters_2_3` that concatenates the letters in columns `letter_2` and `letter_3`. The result should look like this:\n",
        "\n",
        "|   | letter_1 | letter_2 | letter_3 | letter_2_3 |\n",
        "|---|----------|----------|----------|------------|\n",
        "| 0 | a        | d        | g        | dg         |\n",
        "| 1 | b        | e        | h        | eh         |\n",
        "| 2 | c        | f        | i        | fi         |"
      ]
    },
    {
      "cell_type": "code",
      "execution_count": 13,
      "id": "b29ca249",
      "metadata": {
        "id": "b29ca249",
        "colab": {
          "base_uri": "https://localhost:8080/",
          "height": 143
        },
        "outputId": "2d304d8e-b53c-4a80-c326-029652908c45"
      },
      "outputs": [
        {
          "output_type": "execute_result",
          "data": {
            "text/plain": [
              "  letter_1 letter_2 letter_3 letter_2_3\n",
              "0        a        d        g         dg\n",
              "1        b        e        h         eh\n",
              "2        c        f        i         fi"
            ],
            "text/html": [
              "\n",
              "  <div id=\"df-dcabe573-659e-4c54-a0e1-c13968aba964\" class=\"colab-df-container\">\n",
              "    <div>\n",
              "<style scoped>\n",
              "    .dataframe tbody tr th:only-of-type {\n",
              "        vertical-align: middle;\n",
              "    }\n",
              "\n",
              "    .dataframe tbody tr th {\n",
              "        vertical-align: top;\n",
              "    }\n",
              "\n",
              "    .dataframe thead th {\n",
              "        text-align: right;\n",
              "    }\n",
              "</style>\n",
              "<table border=\"1\" class=\"dataframe\">\n",
              "  <thead>\n",
              "    <tr style=\"text-align: right;\">\n",
              "      <th></th>\n",
              "      <th>letter_1</th>\n",
              "      <th>letter_2</th>\n",
              "      <th>letter_3</th>\n",
              "      <th>letter_2_3</th>\n",
              "    </tr>\n",
              "  </thead>\n",
              "  <tbody>\n",
              "    <tr>\n",
              "      <th>0</th>\n",
              "      <td>a</td>\n",
              "      <td>d</td>\n",
              "      <td>g</td>\n",
              "      <td>dg</td>\n",
              "    </tr>\n",
              "    <tr>\n",
              "      <th>1</th>\n",
              "      <td>b</td>\n",
              "      <td>e</td>\n",
              "      <td>h</td>\n",
              "      <td>eh</td>\n",
              "    </tr>\n",
              "    <tr>\n",
              "      <th>2</th>\n",
              "      <td>c</td>\n",
              "      <td>f</td>\n",
              "      <td>i</td>\n",
              "      <td>fi</td>\n",
              "    </tr>\n",
              "  </tbody>\n",
              "</table>\n",
              "</div>\n",
              "    <div class=\"colab-df-buttons\">\n",
              "\n",
              "  <div class=\"colab-df-container\">\n",
              "    <button class=\"colab-df-convert\" onclick=\"convertToInteractive('df-dcabe573-659e-4c54-a0e1-c13968aba964')\"\n",
              "            title=\"Convert this dataframe to an interactive table.\"\n",
              "            style=\"display:none;\">\n",
              "\n",
              "  <svg xmlns=\"http://www.w3.org/2000/svg\" height=\"24px\" viewBox=\"0 -960 960 960\">\n",
              "    <path d=\"M120-120v-720h720v720H120Zm60-500h600v-160H180v160Zm220 220h160v-160H400v160Zm0 220h160v-160H400v160ZM180-400h160v-160H180v160Zm440 0h160v-160H620v160ZM180-180h160v-160H180v160Zm440 0h160v-160H620v160Z\"/>\n",
              "  </svg>\n",
              "    </button>\n",
              "\n",
              "  <style>\n",
              "    .colab-df-container {\n",
              "      display:flex;\n",
              "      gap: 12px;\n",
              "    }\n",
              "\n",
              "    .colab-df-convert {\n",
              "      background-color: #E8F0FE;\n",
              "      border: none;\n",
              "      border-radius: 50%;\n",
              "      cursor: pointer;\n",
              "      display: none;\n",
              "      fill: #1967D2;\n",
              "      height: 32px;\n",
              "      padding: 0 0 0 0;\n",
              "      width: 32px;\n",
              "    }\n",
              "\n",
              "    .colab-df-convert:hover {\n",
              "      background-color: #E2EBFA;\n",
              "      box-shadow: 0px 1px 2px rgba(60, 64, 67, 0.3), 0px 1px 3px 1px rgba(60, 64, 67, 0.15);\n",
              "      fill: #174EA6;\n",
              "    }\n",
              "\n",
              "    .colab-df-buttons div {\n",
              "      margin-bottom: 4px;\n",
              "    }\n",
              "\n",
              "    [theme=dark] .colab-df-convert {\n",
              "      background-color: #3B4455;\n",
              "      fill: #D2E3FC;\n",
              "    }\n",
              "\n",
              "    [theme=dark] .colab-df-convert:hover {\n",
              "      background-color: #434B5C;\n",
              "      box-shadow: 0px 1px 3px 1px rgba(0, 0, 0, 0.15);\n",
              "      filter: drop-shadow(0px 1px 2px rgba(0, 0, 0, 0.3));\n",
              "      fill: #FFFFFF;\n",
              "    }\n",
              "  </style>\n",
              "\n",
              "    <script>\n",
              "      const buttonEl =\n",
              "        document.querySelector('#df-dcabe573-659e-4c54-a0e1-c13968aba964 button.colab-df-convert');\n",
              "      buttonEl.style.display =\n",
              "        google.colab.kernel.accessAllowed ? 'block' : 'none';\n",
              "\n",
              "      async function convertToInteractive(key) {\n",
              "        const element = document.querySelector('#df-dcabe573-659e-4c54-a0e1-c13968aba964');\n",
              "        const dataTable =\n",
              "          await google.colab.kernel.invokeFunction('convertToInteractive',\n",
              "                                                    [key], {});\n",
              "        if (!dataTable) return;\n",
              "\n",
              "        const docLinkHtml = 'Like what you see? Visit the ' +\n",
              "          '<a target=\"_blank\" href=https://colab.research.google.com/notebooks/data_table.ipynb>data table notebook</a>'\n",
              "          + ' to learn more about interactive tables.';\n",
              "        element.innerHTML = '';\n",
              "        dataTable['output_type'] = 'display_data';\n",
              "        await google.colab.output.renderOutput(dataTable, element);\n",
              "        const docLink = document.createElement('div');\n",
              "        docLink.innerHTML = docLinkHtml;\n",
              "        element.appendChild(docLink);\n",
              "      }\n",
              "    </script>\n",
              "  </div>\n",
              "\n",
              "    </div>\n",
              "  </div>\n"
            ]
          },
          "metadata": {},
          "execution_count": 13
        }
      ],
      "source": [
        "#start code here\n",
        "pd.DataFrame({'letter_1': ['a', 'b', 'c'], 'letter_2': ['d', 'e', 'f'], 'letter_3': ['g', 'h', 'i'], 'letter_2_3': ['dg', 'eh', 'fi']})\n",
        "\n",
        "#end code here\n",
        "\n"
      ]
    },
    {
      "cell_type": "markdown",
      "id": "22a5d7bf",
      "metadata": {
        "id": "22a5d7bf"
      },
      "source": [
        "**question 4 (1pt)**\n",
        "\n",
        "Set the `letter_1` column as the index of the `letters` DataFrame."
      ]
    },
    {
      "cell_type": "code",
      "execution_count": 30,
      "id": "9967ad32",
      "metadata": {
        "id": "9967ad32"
      },
      "outputs": [],
      "source": [
        "#start code here\n",
        "k=pd.DataFrame({'letter_1': ['a', 'b', 'c'], 'letter_2': ['d', 'e', 'f'], 'letter_3': ['g', 'h', 'i'], 'letter_2_3': ['dg', 'eh', 'fi']}, index= ['a', 'b', 'c'])\n",
        "\n",
        "\n",
        "\n"
      ]
    },
    {
      "cell_type": "markdown",
      "id": "c8ef0f59",
      "metadata": {
        "id": "c8ef0f59"
      },
      "source": [
        "**question 5 (1pt)**\n",
        "\n",
        "Use the DataFrame `.loc` to print the row with index 'b'."
      ]
    },
    {
      "cell_type": "code",
      "execution_count": 32,
      "id": "c1fa567b",
      "metadata": {
        "id": "c1fa567b",
        "colab": {
          "base_uri": "https://localhost:8080/"
        },
        "outputId": "6a108ad4-5a54-44b2-f0cc-8165f937a5a2"
      },
      "outputs": [
        {
          "output_type": "execute_result",
          "data": {
            "text/plain": [
              "letter_1       b\n",
              "letter_2       e\n",
              "letter_3       h\n",
              "letter_2_3    eh\n",
              "Name: b, dtype: object"
            ]
          },
          "metadata": {},
          "execution_count": 32
        }
      ],
      "source": [
        "k.loc['b',:]\n",
        "\n",
        "\n",
        "#end code here"
      ]
    },
    {
      "cell_type": "markdown",
      "id": "b6f7cdd9",
      "metadata": {
        "id": "b6f7cdd9"
      },
      "source": [
        "The following code loads the dataset we will use for this exam."
      ]
    },
    {
      "cell_type": "code",
      "execution_count": 34,
      "id": "052146c0",
      "metadata": {
        "id": "052146c0"
      },
      "outputs": [],
      "source": [
        "from sklearn.datasets import load_breast_cancer\n",
        "dataset = load_breast_cancer(as_frame=True).frame\n",
        "dataset.rename(columns = {'target':'label'}, inplace = True)"
      ]
    },
    {
      "cell_type": "markdown",
      "id": "85a5fe48",
      "metadata": {
        "id": "85a5fe48"
      },
      "source": [
        "**question 6 (1pt)**\n",
        "\n",
        "Use one line of code to print the first, third and tenth row from the `dataset` DataFrame. Use `.iloc`."
      ]
    },
    {
      "cell_type": "code",
      "execution_count": 39,
      "id": "bdf7b4ee",
      "metadata": {
        "id": "bdf7b4ee",
        "colab": {
          "base_uri": "https://localhost:8080/"
        },
        "outputId": "1716ad4b-1200-4973-fcfb-8b6103a951e9"
      },
      "outputs": [
        {
          "output_type": "stream",
          "name": "stdout",
          "text": [
            "   mean radius  mean texture  mean perimeter  mean area  mean smoothness  \\\n",
            "0        17.99         10.38          122.80     1001.0           0.1184   \n",
            "2        19.69         21.25          130.00     1203.0           0.1096   \n",
            "9        12.46         24.04           83.97      475.9           0.1186   \n",
            "\n",
            "   mean compactness  mean concavity  mean concave points  mean symmetry  \\\n",
            "0            0.2776          0.3001              0.14710         0.2419   \n",
            "2            0.1599          0.1974              0.12790         0.2069   \n",
            "9            0.2396          0.2273              0.08543         0.2030   \n",
            "\n",
            "   mean fractal dimension  ...  worst texture  worst perimeter  worst area  \\\n",
            "0                 0.07871  ...          17.33           184.60      2019.0   \n",
            "2                 0.05999  ...          25.53           152.50      1709.0   \n",
            "9                 0.08243  ...          40.68            97.65       711.4   \n",
            "\n",
            "   worst smoothness  worst compactness  worst concavity  worst concave points  \\\n",
            "0            0.1622             0.6656           0.7119                0.2654   \n",
            "2            0.1444             0.4245           0.4504                0.2430   \n",
            "9            0.1853             1.0580           1.1050                0.2210   \n",
            "\n",
            "   worst symmetry  worst fractal dimension  label  \n",
            "0          0.4601                  0.11890      0  \n",
            "2          0.3613                  0.08758      0  \n",
            "9          0.4366                  0.20750      0  \n",
            "\n",
            "[3 rows x 31 columns]\n"
          ]
        }
      ],
      "source": [
        "#start code here\n",
        "print(dataset.iloc[[0,2,9],:])\n",
        "\n",
        "#end code here"
      ]
    },
    {
      "cell_type": "markdown",
      "id": "74899111",
      "metadata": {
        "id": "74899111"
      },
      "source": [
        "**question 7 (1pt)**\n",
        "\n",
        "Print the label of the last row in the `dataset` DataFrame."
      ]
    },
    {
      "cell_type": "code",
      "execution_count": 36,
      "id": "b8d347a0",
      "metadata": {
        "id": "b8d347a0",
        "colab": {
          "base_uri": "https://localhost:8080/"
        },
        "outputId": "95582011-8669-499a-855a-113e9943d19b"
      },
      "outputs": [
        {
          "output_type": "execute_result",
          "data": {
            "text/plain": [
              "0      0\n",
              "1      0\n",
              "2      0\n",
              "3      0\n",
              "4      0\n",
              "      ..\n",
              "564    0\n",
              "565    0\n",
              "566    0\n",
              "567    0\n",
              "568    1\n",
              "Name: label, Length: 569, dtype: int64"
            ]
          },
          "metadata": {},
          "execution_count": 36
        }
      ],
      "source": [
        "#start code here\n",
        "\n",
        "dataset.iloc[:,-1]\n",
        "#end code here"
      ]
    },
    {
      "cell_type": "markdown",
      "id": "e4572d5f",
      "metadata": {
        "id": "e4572d5f"
      },
      "source": [
        "**question 8 (2pts)**\n",
        "\n",
        "Print all the rows in the `dataset` DataFrame with `worst texture` > 40 or `mean compactness` < 0.03."
      ]
    },
    {
      "cell_type": "code",
      "execution_count": 47,
      "id": "ea1c4d32",
      "metadata": {
        "id": "ea1c4d32",
        "colab": {
          "base_uri": "https://localhost:8080/",
          "height": 143
        },
        "outputId": "46347b28-804a-4f3c-90df-9240590f2d5c"
      },
      "outputs": [
        {
          "output_type": "error",
          "ename": "IndentationError",
          "evalue": "ignored",
          "traceback": [
            "\u001b[0;36m  File \u001b[0;32m\"<ipython-input-47-dc1597520595>\"\u001b[0;36m, line \u001b[0;32m4\u001b[0m\n\u001b[0;31m    dataframe.loc[dataset['worst texture'] > 80] |  ['mean compactness' < 0.03]]\u001b[0m\n\u001b[0m    ^\u001b[0m\n\u001b[0;31mIndentationError\u001b[0m\u001b[0;31m:\u001b[0m unexpected indent\n"
          ]
        }
      ],
      "source": [
        "#start code here\n",
        "\n",
        "\n",
        " dataframe.loc[dataset['worst texture'] > 80] |  ['mean compactness' < 0.03]]\n",
        "\n",
        "#end code here"
      ]
    },
    {
      "cell_type": "markdown",
      "id": "0a625d48",
      "metadata": {
        "id": "0a625d48"
      },
      "source": [
        "**question 9 (3pts)**\n",
        "\n",
        "Add a column `my_feature` to `dataset` that has value 1 if the value of the `mean radius` column is strictly lower than the value of the `mean texture` column, and has value 0 otherwise. Use the DataFrame `.apply()` function."
      ]
    },
    {
      "cell_type": "code",
      "execution_count": null,
      "id": "2646a5bd",
      "metadata": {
        "id": "2646a5bd"
      },
      "outputs": [],
      "source": [
        "#start code here\n",
        "\n",
        "\n",
        "#end code here\n",
        "\n",
        "print(dataset)"
      ]
    },
    {
      "cell_type": "markdown",
      "id": "973b3fcc",
      "metadata": {
        "id": "973b3fcc"
      },
      "source": [
        "The following code creates a Pandas DataFrame `X` that contains all the 31 features in `dataset` and a Pandas Series `y` that contains the label."
      ]
    },
    {
      "cell_type": "code",
      "execution_count": 38,
      "id": "4c967ed2",
      "metadata": {
        "id": "4c967ed2",
        "colab": {
          "base_uri": "https://localhost:8080/"
        },
        "outputId": "4c3d91c9-ebb1-4ab9-b804-fc59a6b8b85f"
      },
      "outputs": [
        {
          "output_type": "stream",
          "name": "stdout",
          "text": [
            "(569, 30)\n",
            "(569,)\n"
          ]
        }
      ],
      "source": [
        "X = dataset.copy()\n",
        "y = X.pop(\"label\")\n",
        "\n",
        "print(X.shape)\n",
        "print(y.shape)"
      ]
    },
    {
      "cell_type": "markdown",
      "id": "ceba47f8",
      "metadata": {
        "id": "ceba47f8"
      },
      "source": [
        "**question 10 (1pt)**\n",
        "\n",
        "Use the Scikit-learn `StandardScaler` to standardize the feature values in `X` (assign the result to `X_norm`)."
      ]
    },
    {
      "cell_type": "code",
      "execution_count": null,
      "id": "9c5c5ea7",
      "metadata": {
        "id": "9c5c5ea7"
      },
      "outputs": [],
      "source": [
        "from sklearn.preprocessing import StandardScaler\n",
        "\n",
        "#start code here\n",
        "\n",
        "X_norm =\n",
        "\n",
        "#start code here\n",
        "\n",
        "print(X_norm)"
      ]
    },
    {
      "cell_type": "markdown",
      "id": "ce1d5a1d",
      "metadata": {
        "id": "ce1d5a1d"
      },
      "source": [
        "**question 11 (2pts)**\n",
        "\n",
        "Apply the K-means clustering algorithm (set hyperparameter `random_state` to 1, leave all other hyperparameters to their default values) to cluster the feature vectors in `X_norm` into two groups. The result of the clustering (the cluster labels for each datapoint in `X_norm`) should be assigned to a variable called `kmeans_result`."
      ]
    },
    {
      "cell_type": "code",
      "execution_count": null,
      "id": "862ecdb0",
      "metadata": {
        "id": "862ecdb0"
      },
      "outputs": [],
      "source": [
        "from sklearn.cluster import KMeans\n",
        "\n",
        "#start code here\n",
        "\n",
        "\n",
        "kmeans_result =\n",
        "\n",
        "#end code here\n",
        "\n",
        "print(kmeans_result)"
      ]
    },
    {
      "cell_type": "markdown",
      "id": "744e101f",
      "metadata": {
        "id": "744e101f"
      },
      "source": [
        "**question 12 (1pt)**\n",
        "\n",
        "What does `kmeans_results` contain?"
      ]
    },
    {
      "cell_type": "markdown",
      "id": "d6566c1b",
      "metadata": {
        "id": "d6566c1b"
      },
      "source": [
        "*Answer here*\n",
        "\n"
      ]
    },
    {
      "cell_type": "markdown",
      "id": "496bc55d",
      "metadata": {
        "id": "496bc55d"
      },
      "source": [
        "**question 13 (2pts)**\n",
        "\n",
        "Reduce the dimension of the feature vectors in `X_norm` to 3 using the t-distributed Stochastic Neighbor Embedding (t-SNE) algorithm with the `perplexity` hyperparameter value set to 10. The result should be in `X_embedded`."
      ]
    },
    {
      "cell_type": "code",
      "execution_count": null,
      "id": "27ddbcd5",
      "metadata": {
        "id": "27ddbcd5"
      },
      "outputs": [],
      "source": [
        "from sklearn.manifold import TSNE\n",
        "\n",
        "#start code here\n",
        "\n",
        "\n",
        "X_embedded =\n",
        "\n",
        "#end code here\n",
        "\n",
        "print(X_embedded)"
      ]
    },
    {
      "cell_type": "markdown",
      "id": "fd007f82",
      "metadata": {
        "id": "fd007f82"
      },
      "source": [
        "**question 14 (1pt)**\n",
        "\n",
        "What does `X_embedded` contain?"
      ]
    },
    {
      "cell_type": "markdown",
      "id": "962dc171",
      "metadata": {
        "id": "962dc171"
      },
      "source": [
        "*Answer here*\n",
        "\n"
      ]
    },
    {
      "cell_type": "code",
      "execution_count": null,
      "id": "a51437ea",
      "metadata": {
        "id": "a51437ea"
      },
      "outputs": [],
      "source": []
    }
  ],
  "metadata": {
    "kernelspec": {
      "display_name": "Python 3 (ipykernel)",
      "language": "python",
      "name": "python3"
    },
    "language_info": {
      "codemirror_mode": {
        "name": "ipython",
        "version": 3
      },
      "file_extension": ".py",
      "mimetype": "text/x-python",
      "name": "python",
      "nbconvert_exporter": "python",
      "pygments_lexer": "ipython3",
      "version": "3.9.13"
    },
    "colab": {
      "provenance": [],
      "include_colab_link": true
    }
  },
  "nbformat": 4,
  "nbformat_minor": 5
}